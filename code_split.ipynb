{
 "cells": [
  {
   "cell_type": "code",
   "execution_count": 1,
   "metadata": {},
   "outputs": [
    {
     "name": "stdout",
     "output_type": "stream",
     "text": [
      "Total images: 50\n",
      "Training images: 40\n",
      "Testing images: 10\n"
     ]
    }
   ],
   "source": [
    "import os\n",
    "import shutil\n",
    "from sklearn.model_selection import train_test_split\n",
    "\n",
    "# Direktori dataset gambar\n",
    "data_dir = 'DATA SAMPEL CITRA REAL/T'\n",
    "\n",
    "# Direktori untuk menyimpan data yang telah di-split\n",
    "train_dir = 'train real/T'\n",
    "test_dir = 'test real/T'\n",
    "\n",
    "# Membuat direktori jika belum ada\n",
    "os.makedirs(train_dir, exist_ok=True)\n",
    "os.makedirs(test_dir, exist_ok=True)\n",
    "\n",
    "# Mendapatkan semua nama file gambar\n",
    "images = os.listdir(data_dir)\n",
    "images = [img for img in images if img.endswith(('png', 'jpg', 'jpeg', 'bmp'))]  \n",
    "\n",
    "# Split data dengan rasio 80:20\n",
    "train_images, test_images = train_test_split(images, test_size=0.2, random_state=42)\n",
    "\n",
    "# Menyalin gambar ke direktori train dan test\n",
    "for image in train_images:\n",
    "    shutil.copy(os.path.join(data_dir, image), os.path.join(train_dir, image))\n",
    "\n",
    "for image in test_images:\n",
    "    shutil.copy(os.path.join(data_dir, image), os.path.join(test_dir, image))\n",
    "\n",
    "print(f\"Total images: {len(images)}\")\n",
    "print(f\"Training images: {len(train_images)}\")\n",
    "print(f\"Testing images: {len(test_images)}\")\n"
   ]
  }
 ],
 "metadata": {
  "kernelspec": {
   "display_name": "Python 3",
   "language": "python",
   "name": "python3"
  },
  "language_info": {
   "codemirror_mode": {
    "name": "ipython",
    "version": 3
   },
   "file_extension": ".py",
   "mimetype": "text/x-python",
   "name": "python",
   "nbconvert_exporter": "python",
   "pygments_lexer": "ipython3",
   "version": "3.12.5"
  }
 },
 "nbformat": 4,
 "nbformat_minor": 2
}
