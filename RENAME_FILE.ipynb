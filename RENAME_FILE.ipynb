{
 "cells": [
  {
   "cell_type": "markdown",
   "metadata": {},
   "source": [
    "RENAME FILE PADA FOLDER BELAH KETUPAT (BK01-BK60)"
   ]
  },
  {
   "cell_type": "code",
   "execution_count": 3,
   "metadata": {},
   "outputs": [
    {
     "name": "stdout",
     "output_type": "stream",
     "text": [
      "/d/JOKIAN/UNIVERSITAS ANDALAS/M ALDI FAJAR/PENELITIAN/DATA PENELITIAN/CITRA ANIMASI/Belah Ketupat\n",
      "/d/JOKIAN/UNIVERSITAS ANDALAS/M ALDI FAJAR/PENELITIAN/DATA PENELITIAN/CITRA REAL/Belah Ketupat\n"
     ]
    }
   ],
   "source": [
    "import os\n",
    "os.chdir(\"D:/JOKIAN/UNIVERSITAS ANDALAS/M ALDI FAJAR/PENELITIAN/DATA PENELITIAN/CITRA ANIMASI/Belah Ketupat\")\n",
    "!pwd\n",
    "\n",
    "i = 1\n",
    "for filename in os.listdir():\n",
    "  dst = \"BK\" + str(i) + \".bmp\"\n",
    "  src = filename\n",
    "  os.rename(src, dst)\n",
    "  i += 1\n",
    "\n",
    "os.chdir(\"D:/JOKIAN/UNIVERSITAS ANDALAS/M ALDI FAJAR/PENELITIAN/DATA PENELITIAN/CITRA REAL/Belah Ketupat\")\n",
    "!pwd\n",
    "\n",
    "i = 1\n",
    "for filename in os.listdir():\n",
    "  dst = \"BK\" + str(i) + \".jpg\"\n",
    "  src = filename\n",
    "  os.rename(src, dst)\n",
    "  i += 1\n"
   ]
  },
  {
   "cell_type": "markdown",
   "metadata": {},
   "source": [
    "RENAME FILE DI DALAM FOLDER JAJAR GENJANG (JG01 - JG60))"
   ]
  },
  {
   "cell_type": "code",
   "execution_count": null,
   "metadata": {},
   "outputs": [],
   "source": [
    "import os\n",
    "os.chdir(\"D:/JOKIAN/UNIVERSITAS ANDALAS/M ALDI FAJAR/PENELITIAN/DATA PENELITIAN/CITRA ANIMASI/Jajar Genjang\")\n",
    "!pwd\n",
    "\n",
    "i = 1\n",
    "for filename in os.listdir():\n",
    "  dst = \"JG\" + str(i) + \".bmp\"\n",
    "  src = filename\n",
    "  os.rename(src, dst)\n",
    "  i += 1\n",
    "\n",
    "os.chdir(\"D:/JOKIAN/UNIVERSITAS ANDALAS/M ALDI FAJAR/PENELITIAN/DATA PENELITIAN/CITRA REAL/Jajar Genjang\")\n",
    "!pwd\n",
    "\n",
    "i = 1\n",
    "for filename in os.listdir():\n",
    "  dst = \"JG\" + str(i) + \".jpg\"\n",
    "  src = filename\n",
    "  os.rename(src, dst)\n",
    "  i += 1\n"
   ]
  },
  {
   "cell_type": "markdown",
   "metadata": {},
   "source": [
    "RENAME FILE DI DALAM FOLDER PERSEGI PANJANG (PP01 - PP60)"
   ]
  },
  {
   "cell_type": "code",
   "execution_count": 1,
   "metadata": {},
   "outputs": [
    {
     "name": "stdout",
     "output_type": "stream",
     "text": [
      "/d/JOKIAN/UNIVERSITAS ANDALAS/M ALDI FAJAR/PENELITIAN/DATA PENELITIAN/CITRA ANIMASI/Persegi Panjang\n",
      "/d/JOKIAN/UNIVERSITAS ANDALAS/M ALDI FAJAR/PENELITIAN/DATA PENELITIAN/CITRA REAL/Persegi Panjang\n"
     ]
    }
   ],
   "source": [
    "import os\n",
    "os.chdir(\"D:/JOKIAN/UNIVERSITAS ANDALAS/M ALDI FAJAR/PENELITIAN/DATA PENELITIAN/CITRA ANIMASI/Persegi Panjang\")\n",
    "!pwd\n",
    "\n",
    "i = 1\n",
    "for filename in os.listdir():\n",
    "  dst = \"PP\" + str(i) + \".bmp\"\n",
    "  src = filename\n",
    "  os.rename(src, dst)\n",
    "  i += 1\n",
    "\n",
    "os.chdir(\"D:/JOKIAN/UNIVERSITAS ANDALAS/M ALDI FAJAR/PENELITIAN/DATA PENELITIAN/CITRA REAL/Persegi Panjang\")\n",
    "!pwd\n",
    "\n",
    "i = 1\n",
    "for filename in os.listdir():\n",
    "  dst = \"PP\" + str(i) + \".jpg\"\n",
    "  src = filename\n",
    "  os.rename(src, dst)\n",
    "  i += 1\n"
   ]
  },
  {
   "cell_type": "markdown",
   "metadata": {},
   "source": [
    "RENAME FILE DI DALAM FOLDER SEGITIGA (S01 - S60)"
   ]
  },
  {
   "cell_type": "code",
   "execution_count": 3,
   "metadata": {},
   "outputs": [
    {
     "name": "stdout",
     "output_type": "stream",
     "text": [
      "/d/JOKIAN/UNIVERSITAS ANDALAS/M ALDI FAJAR/PENELITIAN/DATA PENELITIAN/CITRA REAL/Segitiga\n"
     ]
    }
   ],
   "source": [
    "import os\n",
    "os.chdir(\"D:/JOKIAN/UNIVERSITAS ANDALAS/M ALDI FAJAR/PENELITIAN/DATA PENELITIAN/CITRA ANIMASI/Segitiga\")\n",
    "!pwd\n",
    "\n",
    "i = 1\n",
    "for filename in os.listdir():\n",
    "  dst = \"S\" + str(i) + \".bmp\"\n",
    "  src = filename\n",
    "  os.rename(src, dst)\n",
    "  i += 1\n",
    "\n",
    "os.chdir(\"D:/JOKIAN/UNIVERSITAS ANDALAS/M ALDI FAJAR/PENELITIAN/DATA PENELITIAN/CITRA REAL/Segitiga\")\n",
    "!pwd\n",
    "\n",
    "i = 1\n",
    "for filename in os.listdir():\n",
    "  dst = \"S\" + str(i) + \".jpg\"\n",
    "  src = filename\n",
    "  os.rename(src, dst)\n",
    "  i += 1\n"
   ]
  },
  {
   "cell_type": "markdown",
   "metadata": {},
   "source": [
    "RENAME FILE DI DALAM FOLDER SEGITIGA SIKU SIKU (SK01 - SK55)"
   ]
  },
  {
   "cell_type": "code",
   "execution_count": null,
   "metadata": {},
   "outputs": [
    {
     "name": "stdout",
     "output_type": "stream",
     "text": [
      "D:/JOKIAN/UNIVERSITAS ANDALAS/M ALDI FAJAR/PENELITIAN/DATA PENELITIAN/CITRA ANIMASI/Segitiga Siku Siku\n",
      "D:/JOKIAN/UNIVERSITAS ANDALAS/M ALDI FAJAR/PENELITIAN/DATA PENELITIAN/CITRA REAL/Segitiga Siku Siku\n"
     ]
    }
   ],
   "source": [
    "import os\n",
    "os.chdir(\"D:/JOKIAN/UNIVERSITAS ANDALAS/M ALDI FAJAR/PENELITIAN/DATA PENELITIAN/CITRA ANIMASI/Segitiga Siku Siku\")\n",
    "!pwd\n",
    "\n",
    "i = 1\n",
    "for filename in os.listdir():\n",
    "  dst = \"SK\" + str(i) + \".bmp\"\n",
    "  src = filename\n",
    "  os.rename(src, dst)\n",
    "  i += 1\n",
    "\n",
    "os.chdir(\"D:/JOKIAN/UNIVERSITAS ANDALAS/M ALDI FAJAR/PENELITIAN/DATA PENELITIAN/CITRA REAL/Segitiga Siku Siku\")\n",
    "!pwd\n",
    "\n",
    "i = 1\n",
    "for filename in os.listdir():\n",
    "  dst = \"SK\" + str(i) + \".jpg\"\n",
    "  src = filename\n",
    "  os.rename(src, dst)\n",
    "  i += 1\n"
   ]
  },
  {
   "cell_type": "markdown",
   "metadata": {},
   "source": [
    "RENAME FILE DI DALAM FOLDER TRAPESIUM (T01 - T55)"
   ]
  },
  {
   "cell_type": "code",
   "execution_count": null,
   "metadata": {},
   "outputs": [
    {
     "name": "stdout",
     "output_type": "stream",
     "text": [
      "D:/JOKIAN/UNIVERSITAS ANDALAS/M ALDI FAJAR/PENELITIAN/DATA PENELITIAN/CITRA ANIMASI/Trapesium\n",
      "D:/JOKIAN/UNIVERSITAS ANDALAS/M ALDI FAJAR/PENELITIAN/DATA PENELITIAN/CITRA REAL/Trapesium\n"
     ]
    }
   ],
   "source": [
    "import os\n",
    "os.chdir(\"D:/JOKIAN/UNIVERSITAS ANDALAS/M ALDI FAJAR/PENELITIAN/DATA PENELITIAN/CITRA ANIMASI/Trapesium\")\n",
    "!pwd\n",
    "\n",
    "i = 1\n",
    "for filename in os.listdir():\n",
    "  dst = \"T\" + str(i) + \".bmp\"\n",
    "  src = filename\n",
    "  os.rename(src, dst)\n",
    "  i += 1\n",
    "\n",
    "os.chdir(\"D:/JOKIAN/UNIVERSITAS ANDALAS/M ALDI FAJAR/PENELITIAN/DATA PENELITIAN/CITRA REAL/Trapesium\")\n",
    "!pwd\n",
    "\n",
    "i = 1\n",
    "for filename in os.listdir():\n",
    "  dst = \"T\" + str(i) + \".jpg\"\n",
    "  src = filename\n",
    "  os.rename(src, dst)\n",
    "  i += 1\n"
   ]
  }
 ],
 "metadata": {
  "kernelspec": {
   "display_name": "Python 3",
   "language": "python",
   "name": "python3"
  },
  "language_info": {
   "codemirror_mode": {
    "name": "ipython",
    "version": 3
   },
   "file_extension": ".py",
   "mimetype": "text/x-python",
   "name": "python",
   "nbconvert_exporter": "python",
   "pygments_lexer": "ipython3",
   "version": "3.12.5"
  }
 },
 "nbformat": 4,
 "nbformat_minor": 2
}
